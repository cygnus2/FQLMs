{
 "cells": [
  {
   "cell_type": "markdown",
   "metadata": {},
   "source": [
    "# Visualization of Fermion loops for the 2x2x2 lattice."
   ]
  },
  {
   "cell_type": "code",
   "execution_count": 12,
   "metadata": {},
   "outputs": [
    {
     "name": "stdout",
     "output_type": "stream",
     "text": [
      "Setting up the Hamiltonian with 9600 Fock states.\n"
     ]
    }
   ],
   "source": [
    "import numpy as np\n",
    "import matplotlib.pyplot as plt\n",
    "%matplotlib inline\n",
    "\n",
    "L = [2,2,2]\n",
    "\n",
    "import sys\n",
    "sys.path.append('../')\n",
    "from gauss_lattice.aux import read_all_states, size_tag\n",
    "from gauss_lattice import HamiltonianBuilder\n",
    "\n",
    "states = sorted(read_all_states(L, basedir='../'))\n",
    "builder = HamiltonianBuilder({'L':L}, states=states)"
   ]
  },
  {
   "cell_type": "code",
   "execution_count": 16,
   "metadata": {},
   "outputs": [
    {
     "name": "stdout",
     "output_type": "stream",
     "text": [
      "000000000100001011001111\n",
      "[0, 1, 2, 3, 6, 7, 9, 14]\n",
      "000000001100001011100011\n",
      "[0, 1, 5, 6, 7, 9, 14, 15]\n",
      "000000001100010001101011\n",
      "[0, 1, 3, 5, 6, 10, 14, 15]\n",
      "010000001100100001001011\n",
      "[0, 1, 3, 6, 11, 14, 15, 22]\n",
      "001010000100100001001011\n",
      "[0, 1, 3, 6, 11, 14, 19, 21]\n",
      "000010000100001101001011\n",
      "[0, 1, 3, 6, 8, 9, 14, 19]\n",
      "000000000100001011001111\n",
      "[0, 1, 2, 3, 6, 7, 9, 14]\n"
     ]
    }
   ],
   "source": [
    "path = [26, 57, 60, 2114, 934, 186, 26]\n",
    "pstates = list(map(lambda n: states[n], path))\n",
    "\n",
    "def print_state(s):\n",
    "    print('{:024b}'.format(s))\n",
    "\n",
    "def get_state_indicies(s, L=24):\n",
    "    i = []\n",
    "    for k in range(L):\n",
    "        if (s >> k) & 1:\n",
    "            i.append(k)\n",
    "    return i\n",
    "\n",
    "for pstate in pstates:\n",
    "    print_state(pstate\n",
    "    print(get_state_indicies(pstate))"
   ]
  },
  {
   "cell_type": "code",
   "execution_count": 11,
   "metadata": {},
   "outputs": [
    {
     "name": "stdout",
     "output_type": "stream",
     "text": [
      "000000001000000000101100\n",
      "000000000000011010001000\n",
      "010000000000110000100000\n",
      "011010001000000000000000\n",
      "001000000000101100000000\n",
      "000010000000000110000100\n"
     ]
    }
   ],
   "source": [
    "for k, pstate in enumerate(pstates[:-1]):\n",
    "    print_state(pstate^pstates[k+1])"
   ]
  },
  {
   "cell_type": "code",
   "execution_count": 3,
   "metadata": {},
   "outputs": [
    {
     "data": {
      "text/plain": [
       "True"
      ]
     },
     "execution_count": 3,
     "metadata": {},
     "output_type": "execute_result"
    }
   ],
   "source": [
    "a = set([1,2,3])\n",
    "b = set([3,2,1])\n",
    "a == b"
   ]
  },
  {
   "cell_type": "code",
   "execution_count": 4,
   "metadata": {},
   "outputs": [
    {
     "data": {
      "text/plain": [
       "17039"
      ]
     },
     "execution_count": 4,
     "metadata": {},
     "output_type": "execute_result"
    }
   ],
   "source": [
    "int('111100010100001000000000'[::-1], 2)"
   ]
  },
  {
   "cell_type": "code",
   "execution_count": 4,
   "metadata": {},
   "outputs": [
    {
     "ename": "TypeError",
     "evalue": "sequence item 0: expected str instance, int found",
     "output_type": "error",
     "traceback": [
      "\u001b[0;31m---------------------------------------------------------------------------\u001b[0m",
      "\u001b[0;31mTypeError\u001b[0m                                 Traceback (most recent call last)",
      "\u001b[0;32m<ipython-input-4-e69cf3d87b09>\u001b[0m in \u001b[0;36m<module>\u001b[0;34m\u001b[0m\n\u001b[0;32m----> 1\u001b[0;31m \u001b[0;34m'_'\u001b[0m\u001b[0;34m.\u001b[0m\u001b[0mjoin\u001b[0m\u001b[0;34m(\u001b[0m\u001b[0ma\u001b[0m\u001b[0;34m)\u001b[0m\u001b[0;34m\u001b[0m\u001b[0;34m\u001b[0m\u001b[0m\n\u001b[0m",
      "\u001b[0;31mTypeError\u001b[0m: sequence item 0: expected str instance, int found"
     ]
    }
   ],
   "source": [
    "'_'.join(a)"
   ]
  },
  {
   "cell_type": "code",
   "execution_count": null,
   "metadata": {},
   "outputs": [],
   "source": []
  }
 ],
 "metadata": {
  "kernelspec": {
   "display_name": "Python 3",
   "language": "python",
   "name": "python3"
  },
  "language_info": {
   "codemirror_mode": {
    "name": "ipython",
    "version": 3
   },
   "file_extension": ".py",
   "mimetype": "text/x-python",
   "name": "python",
   "nbconvert_exporter": "python",
   "pygments_lexer": "ipython3",
   "version": "3.8.5"
  }
 },
 "nbformat": 4,
 "nbformat_minor": 4
}
