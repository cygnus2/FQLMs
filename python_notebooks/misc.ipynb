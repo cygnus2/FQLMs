{
 "cells": [
  {
   "cell_type": "code",
   "execution_count": 1,
   "metadata": {},
   "outputs": [
    {
     "name": "stdout",
     "output_type": "stream",
     "text": [
      "Setting up the Hamiltonian with 9600 Fock states.\n"
     ]
    }
   ],
   "source": [
    "import sys\n",
    "import pandas as pd\n",
    "import numpy as np\n",
    "import matplotlib.pyplot as plt\n",
    "%matplotlib inline\n",
    "\n",
    "sys.path.append('../python_gauss_lattice/')\n",
    "from gauss_lattice import HamiltonianBuilder\n",
    "from gauss_lattice.aux import size_tag, read_all_states\n",
    "data_dir = '../python_data/visuals/'\n",
    "\n",
    "param = {\n",
    "    'L' : [2,2,2],\n",
    "    'lambda' : -5,\n",
    "    'gauge_particles' : 'fermions'\n",
    "}\n",
    "tag = '_' + param['gauge_particles'] + '_' + size_tag(param['L']) + '_lam{:.2f}.dat'.format(param['lambda'])\n",
    "eigenvalues = pd.read_csv(data_dir + 'spectrum'+tag, skiprows=0, names=['E'], index_col=False)\n",
    "eigenstates = np.load(data_dir+'eigenstates'+tag+'.npy')\n",
    "\n",
    "lattices = np.array(read_all_states(param['L'], basedir=data_dir))\n",
    "builder = HamiltonianBuilder(param, states=lattices)"
   ]
  },
  {
   "cell_type": "code",
   "execution_count": 13,
   "metadata": {},
   "outputs": [
    {
     "name": "stdout",
     "output_type": "stream",
     "text": [
      "found\n",
      "found\n"
     ]
    }
   ],
   "source": [
    "for p in builder.plaquettes:\n",
    "    s = p[:-1]\n",
    "    if 1 in s and 4 in s:\n",
    "        print('found')"
   ]
  },
  {
   "cell_type": "code",
   "execution_count": 16,
   "metadata": {},
   "outputs": [
    {
     "name": "stdout",
     "output_type": "stream",
     "text": [
      "[0, 4, 6, 1]\n",
      "[1, 8, 13, 2]\n",
      "[0, 5, 12, 2]\n",
      "[3, 1, 9, 4]\n",
      "[4, 11, 16, 5]\n",
      "[3, 2, 15, 5]\n",
      "[6, 10, 0, 7]\n",
      "[7, 2, 19, 8]\n",
      "[6, 11, 18, 8]\n",
      "[9, 7, 3, 10]\n",
      "[10, 5, 22, 11]\n",
      "[9, 8, 21, 11]\n",
      "[12, 16, 18, 13]\n",
      "[13, 20, 1, 14]\n",
      "[12, 17, 0, 14]\n",
      "[15, 13, 21, 16]\n",
      "[16, 23, 4, 17]\n",
      "[15, 14, 3, 17]\n",
      "[18, 22, 12, 19]\n",
      "[19, 14, 7, 20]\n",
      "[18, 23, 6, 20]\n",
      "[21, 19, 15, 22]\n",
      "[22, 17, 10, 23]\n",
      "[21, 20, 9, 23]\n"
     ]
    }
   ],
   "source": [
    "for p in builder.plaquettes:\n",
    "    print(p[:-1])"
   ]
  },
  {
   "cell_type": "code",
   "execution_count": null,
   "metadata": {},
   "outputs": [],
   "source": []
  }
 ],
 "metadata": {
  "kernelspec": {
   "display_name": "Python 3",
   "language": "python",
   "name": "python3"
  },
  "language_info": {
   "codemirror_mode": {
    "name": "ipython",
    "version": 3
   },
   "file_extension": ".py",
   "mimetype": "text/x-python",
   "name": "python",
   "nbconvert_exporter": "python",
   "pygments_lexer": "ipython3",
   "version": "3.8.2"
  }
 },
 "nbformat": 4,
 "nbformat_minor": 4
}
