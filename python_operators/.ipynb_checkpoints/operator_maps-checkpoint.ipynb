{
 "cells": [
  {
   "cell_type": "markdown",
   "metadata": {},
   "source": [
    "# Opertor mappings\n",
    "Here's an attempt to create single-state operators that reflect rotations and such. This can done with the lattice object. \n",
    "\n",
    "The idea is to have a mapping of bits in the inital state to bits in the final state which relect the operator in question. This is essentially realized as a list of index, a sort of \"permutation\" if you want, that reflects the desired operation."
   ]
  },
  {
   "cell_type": "code",
   "execution_count": 94,
   "metadata": {},
   "outputs": [],
   "source": [
    "import numpy as np\n",
    "import sys\n",
    "\n",
    "sys.path.append('../symmetry_stuff/')\n",
    "from lattice_object import LatticeObject"
   ]
  },
  {
   "cell_type": "code",
   "execution_count": 95,
   "metadata": {},
   "outputs": [
    {
     "name": "stdout",
     "output_type": "stream",
     "text": [
      "Setting up lattice 1232342\n",
      "|000100101100110111010110> (1232342)\n",
      "|110010111110100101100000> (13363552)\n"
     ]
    }
   ],
   "source": [
    "state = LatticeObject(1232342, L=[2,2,2])\n",
    "print(state.to_bin())\n",
    "state.apply_parity_flip()\n",
    "print(state.to_bin())"
   ]
  },
  {
   "cell_type": "markdown",
   "metadata": {},
   "source": [
    "### Create the parity map."
   ]
  },
  {
   "cell_type": "code",
   "execution_count": 111,
   "metadata": {},
   "outputs": [
    {
     "data": {
      "text/plain": [
       "array([21, 22, 23, 18, 19, 20, 15, 16, 17, 12, 13, 14,  9, 10, 11,  6,  7,\n",
       "        8,  3,  4,  5,  0,  1,  2])"
      ]
     },
     "execution_count": 111,
     "metadata": {},
     "output_type": "execute_result"
    }
   ],
   "source": [
    "def make_op_map(L, op):\n",
    "    n_spins = np.prod(L)*len(L)\n",
    "    op_map = np.zeros(shape=(n_spins), dtype=int)\n",
    "\n",
    "    for i in range(n_spins):\n",
    "        latt = LatticeObject(1<<i, L=L, quiet=True)\n",
    "        op(latt)\n",
    "        for j in range(n_spins):\n",
    "            temp = latt.to_int()\n",
    "            if (temp >> j)&1:\n",
    "                op_map[i] = int(j)\n",
    "                break\n",
    "                \n",
    "    return op_map\n",
    "\n",
    "op_map = make_op_map([2,2,2], lambda x: x.apply_parity_flip())\n",
    "op_map"
   ]
  },
  {
   "cell_type": "code",
   "execution_count": 113,
   "metadata": {},
   "outputs": [
    {
     "name": "stdout",
     "output_type": "stream",
     "text": [
      "initial state bits:  [0 0 0 1 0 0 1 0 1 1 0 0 1 1 0 1 1 1 0 1 0 1 1 0]\n",
      "final state bits:    [1 1 0 0 1 0 1 1 1 1 1 0 1 0 0 1 0 1 1 0 0 0 0 0]\n",
      "Integer mapping: 1232342 --> 13363552\n"
     ]
    }
   ],
   "source": [
    "state = LatticeObject(1232342, L=[2,2,2], quiet=True)\n",
    "state_arr = np.array([int(s) for s in state.to_bin()[1:25]])\n",
    "print(\"initial state bits: \", state_arr)\n",
    "\n",
    "final_state_arr = np.array([state_arr[k] for k in op_map])\n",
    "print(\"final state bits:   \", final_state_arr)\n",
    "\n",
    "final_state = sum([final_state_arr[-i-1]<<i for i in range(24)])\n",
    "print(\"integer mapping: {:d} --> {:d}\".format(state.to_int(), final_state))"
   ]
  },
  {
   "cell_type": "markdown",
   "metadata": {},
   "source": [
    "## Batch processing and creation of a YAML file."
   ]
  },
  {
   "cell_type": "code",
   "execution_count": 115,
   "metadata": {},
   "outputs": [
    {
     "data": {
      "text/plain": [
       "{'2x2x2': {'parity': array([21, 22, 23, 18, 19, 20, 15, 16, 17, 12, 13, 14,  9, 10, 11,  6,  7,\n",
       "          8,  3,  4,  5,  0,  1,  2])},\n",
       " '2x2x4': {'parity': array([45, 46, 47, 42, 43, 44, 39, 40, 41, 36, 37, 38, 33, 34, 35, 30, 31,\n",
       "         32, 27, 28, 29, 24, 25, 26, 21, 22, 23, 18, 19, 20, 15, 16, 17, 12,\n",
       "         13, 14,  9, 10, 11,  6,  7,  8,  3,  4,  5,  0,  1,  2])},\n",
       " '2x2x6': {'parity': array([69, 70, 71, 66, 67, 68, 63, 64, 65, 60, 61, 62, 57, 58, 59, 54, 55,\n",
       "         56, 51, 52, 53, 48, 49, 50, 45, 46, 47, 42, 43, 44, 39, 40, 41, 36,\n",
       "         37, 38, 33, 34, 35, 30, 31, 32, 27, 28, 29, 24, 25, 26, 21, 22, 23,\n",
       "         18, 19, 20, 15, 16, 17, 12, 13, 14,  9, 10, 11,  6,  7,  8,  3,  4,\n",
       "          5,  0,  1,  2])}}"
      ]
     },
     "execution_count": 115,
     "metadata": {},
     "output_type": "execute_result"
    }
   ],
   "source": [
    "lattices = [\n",
    "    [2,2,2],\n",
    "    [2,2,4],\n",
    "    [2,2,6]\n",
    "]\n",
    "operators = {\n",
    "       \"parity\" : lambda x: x.apply_parity_flip()\n",
    "}\n",
    "\n",
    "op_maps = {}\n",
    "for L in lattices:\n",
    "    latt_op_map = {}\n",
    "    for name, op in operators.items():\n",
    "        latt_op_map[name] = make_op_map(L, op)\n",
    "    op_maps[\"x\".join(map(str, L))] = latt_op_map\n"
   ]
  },
  {
   "cell_type": "markdown",
   "metadata": {},
   "source": [
    "#### Store Operator maps\n",
    "This can conveniently done with YAML, simply dump the file so that we can read the dictionary later with Julia."
   ]
  },
  {
   "cell_type": "code",
   "execution_count": null,
   "metadata": {},
   "outputs": [],
   "source": []
  }
 ],
 "metadata": {
  "kernelspec": {
   "display_name": "Python 3",
   "language": "python",
   "name": "python3"
  },
  "language_info": {
   "codemirror_mode": {
    "name": "ipython",
    "version": 3
   },
   "file_extension": ".py",
   "mimetype": "text/x-python",
   "name": "python",
   "nbconvert_exporter": "python",
   "pygments_lexer": "ipython3",
   "version": "3.8.5"
  }
 },
 "nbformat": 4,
 "nbformat_minor": 4
}
