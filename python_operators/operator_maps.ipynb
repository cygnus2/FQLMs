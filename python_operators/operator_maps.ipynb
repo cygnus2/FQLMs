{
 "cells": [
  {
   "cell_type": "markdown",
   "metadata": {},
   "source": [
    "# Opertor mappings\n",
    "Here's an attempt to create single-state operators that reflect rotations and such. This can done with the lattice object. \n",
    "\n",
    "The idea is to have a mapping of bits in the inital state to bits in the final state which relect the operator in question. This is essentially realized as a list of index, a sort of \"permutation\" if you want, that reflects the desired operation."
   ]
  },
  {
   "cell_type": "code",
   "execution_count": 1,
   "metadata": {},
   "outputs": [],
   "source": [
    "import numpy as np\n",
    "import sys\n",
    "\n",
    "sys.path.append('../symmetry_stuff/')\n",
    "from lattice_object import LatticeObject"
   ]
  },
  {
   "cell_type": "code",
   "execution_count": 12,
   "metadata": {},
   "outputs": [
    {
     "name": "stdout",
     "output_type": "stream",
     "text": [
      "Setting up lattice 4096\n",
      "|000000000001000000000000> (4096)\n",
      "# of flippable plaquettes: 0\n",
      "|000000001000000000000000> (32768)\n",
      "# of flippable plaquettes: 0\n"
     ]
    },
    {
     "data": {
      "image/png": "[encoded data removed]",
      "text/plain": [
       "<Figure size 187.2x158.4 with 1 Axes>"
      ]
     },
     "metadata": {
      "needs_background": "light"
     },
     "output_type": "display_data"
    },
    {
     "data": {
      "image/png": "[encoded data removed]",
      "text/plain": [
       "<Figure size 187.2x158.4 with 1 Axes>"
      ]
     },
     "metadata": {
      "needs_background": "light"
     },
     "output_type": "display_data"
    }
   ],
   "source": [
    "ji = 13\n",
    "state = LatticeObject(1<<ji-1, L=[2,2,2])\n",
    "print(state.to_bin())\n",
    "state.draw()\n",
    "state.apply_alternate_parity_flip()\n",
    "print(state.to_bin())\n",
    "state.draw()"
   ]
  },
  {
   "cell_type": "markdown",
   "metadata": {},
   "source": [
    "### Create the parity map."
   ]
  },
  {
   "cell_type": "code",
   "execution_count": 8,
   "metadata": {},
   "outputs": [
    {
     "data": {
      "text/plain": [
       "array([21, 22, 23, 18, 19, 20, 15, 16, 17, 12, 13, 14,  9, 10, 11,  6,  7,\n",
       "        8,  3,  4,  5,  0,  1,  2])"
      ]
     },
     "execution_count": 8,
     "metadata": {},
     "output_type": "execute_result"
    }
   ],
   "source": [
    "def make_op_map(L, op):\n",
    "    n_spins = np.prod(L)*len(L)\n",
    "    op_map = np.zeros(shape=(n_spins), dtype=int)\n",
    "\n",
    "    for i in range(n_spins):\n",
    "        latt = LatticeObject(1<<i, L=L, quiet=True)\n",
    "        op(latt)\n",
    "        for j in range(n_spins):\n",
    "            temp = latt.to_int()\n",
    "            if (temp >> j)&1:\n",
    "                op_map[i] = int(j)\n",
    "                break\n",
    "                \n",
    "    return op_map\n",
    "\n",
    "op_map = make_op_map([2,2,2], lambda x: x.apply_parity_flip())\n",
    "op_map"
   ]
  },
  {
   "cell_type": "code",
   "execution_count": 9,
   "metadata": {},
   "outputs": [
    {
     "name": "stdout",
     "output_type": "stream",
     "text": [
      "initial state bits:  [0 0 0 1 0 0 1 0 1 1 0 0 1 1 0 1 1 1 0 1 0 1 1 0]\n",
      "final state bits:    [1 1 0 0 1 0 1 1 1 1 1 0 1 0 0 1 0 1 1 0 0 0 0 0]\n",
      "integer mapping: 1232342 --> 13363552\n"
     ]
    }
   ],
   "source": [
    "state = LatticeObject(1232342, L=[2,2,2], quiet=True)\n",
    "state_arr = np.array([int(s) for s in state.to_bin()[1:25]])\n",
    "print(\"initial state bits: \", state_arr)\n",
    "\n",
    "final_state_arr = np.array([state_arr[k] for k in op_map])\n",
    "print(\"final state bits:   \", final_state_arr)\n",
    "\n",
    "final_state = sum([final_state_arr[-i-1]<<i for i in range(24)])\n",
    "print(\"integer mapping: {:d} --> {:d}\".format(state.to_int(), final_state))"
   ]
  },
  {
   "cell_type": "markdown",
   "metadata": {},
   "source": [
    "## Batch processing and creation of a YAML file."
   ]
  },
  {
   "cell_type": "code",
   "execution_count": 10,
   "metadata": {},
   "outputs": [],
   "source": [
    "lattices = [\n",
    "    [2,2,2],\n",
    "    [2,2,4],\n",
    "    [2,2,6]\n",
    "]\n",
    "operators = {\n",
    "    \"parity\" : lambda x: x.apply_alternate_parity_flip(),\n",
    "    \"unity\" : lambda x: x\n",
    "}\n",
    "\n",
    "op_maps = {}\n",
    "for L in lattices:\n",
    "    latt_op_map = {}\n",
    "    for name, op in operators.items():\n",
    "        # Attention: we need a +1 here because Julia is 1-based in the indicies.\n",
    "        latt_op_map[name] = (make_op_map(L, op)+1).tolist()\n",
    "    op_maps[\"x\".join(map(str, L))] = latt_op_map\n",
    "\n",
    "# op_maps"
   ]
  },
  {
   "cell_type": "markdown",
   "metadata": {},
   "source": [
    "#### Store Operator maps\n",
    "This can conveniently done with YAML, simply dump the file so that we can read the dictionary later with Julia."
   ]
  },
  {
   "cell_type": "code",
   "execution_count": 174,
   "metadata": {},
   "outputs": [],
   "source": [
    "import yaml\n",
    "\n",
    "with open(\"../julia_gl/src/operators/operator_masks.yml\", \"w\") as file:\n",
    "      file.write(yaml.dump(op_maps, default_flow_style=False))"
   ]
  },
  {
   "cell_type": "markdown",
   "metadata": {},
   "source": [
    "## Dump as jl sourcecode.\n",
    "\n",
    "This is the Julia format we would need.\n",
    "```\n",
    "make_operators() = Dict(\n",
    " \"2x2x2\" => Dict(\"parity\" => [1,2,3])\n",
    ")\n",
    "```\n",
    "\n",
    "Note, that this will actually be a piece of the source code. "
   ]
  },
  {
   "cell_type": "code",
   "execution_count": 11,
   "metadata": {},
   "outputs": [],
   "source": [
    "import datetime, time, socket\n",
    "\n",
    "with open(\"../julia_gl/src/operators/gl_operators.jl\", \"w+\") as file:\n",
    "    file.write(\"# [Automatically generated @{:s} at {:s}]\\n\".format(\n",
    "        socket.gethostname(),\n",
    "        datetime.datetime.fromtimestamp(time.time()).strftime('%Y-%m-%d %H:%M:%S'))\n",
    "    )\n",
    "    file.write('include(\"../typedefs.jl\")\\n\\n')\n",
    "    file.write(\"gl_operators = Dict(\\n\")\n",
    "    for latt, latt_ops in op_maps.items():\n",
    "        file.write('    \"{:s}\" => Dict(\\n'.format(latt))\n",
    "        for name, op_map in latt_ops.items():\n",
    "            file.write('        \"{:s}\" => Operator(\"{:s}\", [{:s}]),\\n'.format(name, name, \", \".join(map(str,op_map))))\n",
    "        file.write(\"    ),\\n\")\n",
    "    file.write(\")\\n\")"
   ]
  },
  {
   "cell_type": "code",
   "execution_count": null,
   "metadata": {},
   "outputs": [],
   "source": []
  }
 ],
 "metadata": {
  "kernelspec": {
   "display_name": "Python 3",
   "language": "python",
   "name": "python3"
  },
  "language_info": {
   "codemirror_mode": {
    "name": "ipython",
    "version": 3
   },
   "file_extension": ".py",
   "mimetype": "text/x-python",
   "name": "python",
   "nbconvert_exporter": "python",
   "pygments_lexer": "ipython3",
   "version": "3.8.5"
  }
 },
 "nbformat": 4,
 "nbformat_minor": 4
}
